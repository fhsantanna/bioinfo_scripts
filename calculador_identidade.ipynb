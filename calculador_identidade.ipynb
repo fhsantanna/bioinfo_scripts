{
 "cells": [
  {
   "cell_type": "code",
   "execution_count": 5,
   "metadata": {},
   "outputs": [],
   "source": [
    "from Bio import AlignIO\n",
    "\n"
   ]
  },
  {
   "cell_type": "code",
   "execution_count": 27,
   "metadata": {},
   "outputs": [
    {
     "name": "stdout",
     "output_type": "stream",
     "text": [
      "ID: AB037004.1.1471\n",
      "Name: AB037004.1.1471\n",
      "Description: AB037004.1.1471 Bacteria;Actinobacteriota;Actinobacteria;Micromonosporales;Micromonosporaceae;Actinoplanes;Actinoplanes humidus\n",
      "Number of features: 0\n",
      "Seq('ACACGUGAGGACUCCAACUUGGAAAGUUGGAUCUGCGCUAUCAGCUUGUUGGUG...UAC', SingleLetterAlphabet())\n"
     ]
    }
   ],
   "source": [
    "file_name = \"sthermo_vs_actino_sina_nogap_03052020_LTP.fasta\"\n",
    "alignment = AlignIO.read(file_name, \"fasta\")\n",
    "\n",
    "print(alignment[50])"
   ]
  },
  {
   "cell_type": "code",
   "execution_count": 21,
   "metadata": {},
   "outputs": [],
   "source": [
    "def calculate_identity(seq1, seq2):\n",
    "    n_identities = 0\n",
    "    for r in range(0,len(seq1)):\n",
    "        if seq1[r] == seq2[r]:\n",
    "            n_identities += 1\n",
    "    identity = (n_identities / len(seq1))\n",
    "    return identity\n"
   ]
  },
  {
   "cell_type": "code",
   "execution_count": 29,
   "metadata": {},
   "outputs": [
    {
     "data": {
      "text/plain": [
       "0.9405594405594405"
      ]
     },
     "execution_count": 29,
     "metadata": {},
     "output_type": "execute_result"
    }
   ],
   "source": [
    "calculate_identity(alignment[0], alignment[1])"
   ]
  },
  {
   "cell_type": "code",
   "execution_count": 23,
   "metadata": {},
   "outputs": [],
   "source": [
    "def calculate_distance(seq1, seq2):\n",
    "    n_diferences = 0\n",
    "    for r in range(0,len(seq1)):\n",
    "        if seq1[r] != seq2[r]:\n",
    "            n_diferences += 1\n",
    "    distance = (n_diferences / len(seq1))\n",
    "    return distance"
   ]
  },
  {
   "cell_type": "code",
   "execution_count": 24,
   "metadata": {},
   "outputs": [
    {
     "data": {
      "text/plain": [
       "0.05944055944055944"
      ]
     },
     "execution_count": 24,
     "metadata": {},
     "output_type": "execute_result"
    }
   ],
   "source": [
    "calculate_distance(alignment[0], alignment[1])"
   ]
  },
  {
   "cell_type": "code",
   "execution_count": 25,
   "metadata": {},
   "outputs": [
    {
     "data": {
      "text/plain": [
       "1.0"
      ]
     },
     "execution_count": 25,
     "metadata": {},
     "output_type": "execute_result"
    }
   ],
   "source": [
    "calculate_identity(alignment[0], alignment[1]) + calculate_distance(alignment[0], alignment[1])"
   ]
  },
  {
   "cell_type": "code",
   "execution_count": null,
   "metadata": {},
   "outputs": [],
   "source": []
  }
 ],
 "metadata": {
  "kernelspec": {
   "display_name": "Python 3",
   "language": "python",
   "name": "python3"
  },
  "language_info": {
   "codemirror_mode": {
    "name": "ipython",
    "version": 3
   },
   "file_extension": ".py",
   "mimetype": "text/x-python",
   "name": "python",
   "nbconvert_exporter": "python",
   "pygments_lexer": "ipython3",
   "version": "3.6.7"
  }
 },
 "nbformat": 4,
 "nbformat_minor": 4
}
